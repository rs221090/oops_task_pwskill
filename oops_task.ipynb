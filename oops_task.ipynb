{
 "cells": [
  {
   "cell_type": "raw",
   "id": "823d62bf-7f7c-4fa7-a01f-1cb7a546b408",
   "metadata": {},
   "source": [
    "Q1, Create a vehicle class with an init method having instance variables as name_of_vehicle, max_speed\n",
    "and average_of_vehicle.\n",
    "Q2. Create a child class car from the vehicle class created in Que 1, which will inherit the vehicle class.\n",
    "Create a method named seating_capacity which takes capacity as an argument and returns the name of\n",
    "the vehicle and its seating capacity.\n",
    "Q3. What is multiple inheritance? Write a python code to demonstrate multiple inheritance.\n",
    "Q4. What are getter and setter in python? Create a class and create a getter and a setter method in this\n",
    "class.\n",
    "Q5.What is method overriding in python? Write a python code to demonstrate method overriding."
   ]
  },
  {
   "cell_type": "raw",
   "id": "275405f6-4785-4f52-b573-de2aeae41a1f",
   "metadata": {},
   "source": [
    "Q1, Create a vehicle class with an init method having instance variables as name_of_vehicle, max_speed\n",
    "and average_of_vehicle."
   ]
  },
  {
   "cell_type": "code",
   "execution_count": 1,
   "id": "c7dab1a3-d5a3-4b48-9fa7-1cf694316734",
   "metadata": {},
   "outputs": [],
   "source": [
    "class vehicle:\n",
    "    def __init__(self,name_of_vehicle, max_speed,\n",
    "                 average_of_vehicle):\n",
    "        self.name_of_vehicle = name_of_vehicle\n",
    "        self.max_speed = max_speed\n",
    "        self.average_of_vehicle = average_of_vehicle"
   ]
  },
  {
   "cell_type": "raw",
   "id": "2bb573ee-872b-475a-8b15-f44ad54032e6",
   "metadata": {},
   "source": [
    "Q2. Create a child class car from the vehicle class created in Que 1, which will inherit the vehicle class.\n",
    "Create a method named seating_capacity which takes capacity as an argument and returns the name of\n",
    "the vehicle and its seating capacity."
   ]
  },
  {
   "cell_type": "code",
   "execution_count": 2,
   "id": "9ec8f576-2b0d-4f85-b3e9-044ca1ffd030",
   "metadata": {},
   "outputs": [],
   "source": [
    "class car(vehicle):\n",
    "    def seating_capacity(self,capacity):\n",
    "        print(\"seating_capacity = \" , capacity)\n",
    "        print(\"name of vehicle = \" ,self.name_of_vehicle)"
   ]
  },
  {
   "cell_type": "code",
   "execution_count": 3,
   "id": "5aa0fd25-3010-48c1-9780-a20fb548b610",
   "metadata": {},
   "outputs": [],
   "source": [
    "mar = car(\"maruti\",220,\"10km/l\")"
   ]
  },
  {
   "cell_type": "code",
   "execution_count": 4,
   "id": "71b559a3-547c-4d5a-b874-6e964bbe6ade",
   "metadata": {},
   "outputs": [
    {
     "name": "stdout",
     "output_type": "stream",
     "text": [
      "seating_capacity =  6\n",
      "name of vehicle =  maruti\n"
     ]
    }
   ],
   "source": [
    "mar.seating_capacity(6)"
   ]
  },
  {
   "cell_type": "raw",
   "id": "0aa676eb-fd8c-4f66-943d-438d1e8bbd1e",
   "metadata": {},
   "source": [
    "Q3. What is multiple inheritance? Write a python code to demonstrate multiple inheritance."
   ]
  },
  {
   "cell_type": "raw",
   "id": "e1d77b7c-a9c8-4bc0-9a78-9e86d3280db1",
   "metadata": {},
   "source": [
    "when child class derived or inherit from more than one parent class"
   ]
  },
  {
   "cell_type": "code",
   "execution_count": 5,
   "id": "3a84e9cd-b432-4728-976c-50e37aaf7df8",
   "metadata": {},
   "outputs": [],
   "source": [
    "class parent1:\n",
    "    def class1(self):\n",
    "        print(\"this is from parent1 class\")\n",
    "        \n",
    "class parent2:\n",
    "    def class2(self):\n",
    "        print(\"this is from parent2 class\")\n",
    "        \n",
    "        \n",
    "class child(parent1,parent2):\n",
    "    def class3(self):\n",
    "        print(\"this is from child class\")\n",
    "\n"
   ]
  },
  {
   "cell_type": "markdown",
   "id": "9fb5206b-9e13-458f-950d-89b0babe45cf",
   "metadata": {},
   "source": [
    "Q4. What are getter and setter in python? Create a class and create a getter and a setter method in this\n",
    "class."
   ]
  },
  {
   "cell_type": "raw",
   "id": "aff0562f-980e-433a-afda-d2e9d5e0ce67",
   "metadata": {},
   "source": [
    "Getter and setter are method in python used for encapsulation oops.\n",
    "These methods avoid direct access of private and protected variable\n"
   ]
  },
  {
   "cell_type": "code",
   "execution_count": 6,
   "id": "ebfe4c72-b7b6-4429-8634-26c31e0fb34f",
   "metadata": {},
   "outputs": [],
   "source": [
    "class student:\n",
    "    def __init__(self,name,age):\n",
    "        self.name = name\n",
    "        self.__age = age\n",
    "    #getter_method    \n",
    "    @property\n",
    "    def get_age(self):\n",
    "        print(self.__age)\n",
    "    #setter_method\n",
    "    @get_age.setter\n",
    "    def set_age(self,new_age):\n",
    "        self.__age = new_age\n",
    "        "
   ]
  },
  {
   "cell_type": "code",
   "execution_count": 7,
   "id": "b04f7986-8efe-4525-9a0d-ab5fef28f610",
   "metadata": {},
   "outputs": [],
   "source": [
    "stu1 = student(\"ruchi\",32)"
   ]
  },
  {
   "cell_type": "code",
   "execution_count": 8,
   "id": "ed21b928-71b9-48c7-ac92-0e0129115c04",
   "metadata": {},
   "outputs": [
    {
     "name": "stdout",
     "output_type": "stream",
     "text": [
      "32\n"
     ]
    }
   ],
   "source": [
    "stu1.get_age"
   ]
  },
  {
   "cell_type": "code",
   "execution_count": 9,
   "id": "fee213b3-a2cb-4a19-94d7-263ae442715c",
   "metadata": {},
   "outputs": [],
   "source": [
    "stu1.set_age = 33"
   ]
  },
  {
   "cell_type": "code",
   "execution_count": 10,
   "id": "d65e498c-23c5-4901-8be1-4fe7a2380e71",
   "metadata": {},
   "outputs": [
    {
     "name": "stdout",
     "output_type": "stream",
     "text": [
      "33\n"
     ]
    }
   ],
   "source": [
    "stu1.get_age"
   ]
  },
  {
   "cell_type": "raw",
   "id": "10d9888a-6465-4a98-ae04-3d34178ad3ad",
   "metadata": {},
   "source": [
    "Q5.What is method overriding in python? Write a python code to demonstrate method overriding."
   ]
  },
  {
   "cell_type": "raw",
   "id": "fecdbd64-1212-46c8-855f-28c33ced20dd",
   "metadata": {},
   "source": [
    "Method overriding is the ability of oops which allow child class or subclass to overwrite method which is already given in parent or super class.When the method in child class have same name,same parameters and same return as in parent class then that method is said to override the method in parent class.\n",
    "If the object of child class is used to invoke the method then the version of child class will be executed and if object of parent class is used to invoke method then that version of parent class will be executed.\n",
    "\n"
   ]
  },
  {
   "cell_type": "code",
   "execution_count": 15,
   "id": "b3742b64-830b-4834-a84d-1282dcd6615f",
   "metadata": {},
   "outputs": [],
   "source": [
    "class animal:\n",
    "    def spieces(self):\n",
    "        print(\"elephant\")"
   ]
  },
  {
   "cell_type": "code",
   "execution_count": 16,
   "id": "085df07c-f7fb-4993-8449-0b1a63f1bc17",
   "metadata": {},
   "outputs": [],
   "source": [
    "class dog(animal):\n",
    "    def spieces(self):\n",
    "        print(\"labordor\")\n",
    "        \n",
    "                "
   ]
  },
  {
   "cell_type": "code",
   "execution_count": 17,
   "id": "99e59168-c95c-4e31-a898-66d48d1a1b19",
   "metadata": {},
   "outputs": [],
   "source": [
    "animal1 = animal()\n",
    "dog1 = dog()"
   ]
  },
  {
   "cell_type": "code",
   "execution_count": 19,
   "id": "91990676-7c2e-423a-a5d3-9c8adc0d2db3",
   "metadata": {},
   "outputs": [
    {
     "name": "stdout",
     "output_type": "stream",
     "text": [
      "elephant\n"
     ]
    }
   ],
   "source": [
    "animal1.spieces()\n"
   ]
  },
  {
   "cell_type": "code",
   "execution_count": 20,
   "id": "cf6c1706-3f75-4943-8d42-d40567e18aad",
   "metadata": {},
   "outputs": [
    {
     "name": "stdout",
     "output_type": "stream",
     "text": [
      "labordor\n"
     ]
    }
   ],
   "source": [
    "dog1.spieces()"
   ]
  },
  {
   "cell_type": "code",
   "execution_count": null,
   "id": "990176da-11b3-4bb9-ab80-1cb88245b66d",
   "metadata": {},
   "outputs": [],
   "source": []
  }
 ],
 "metadata": {
  "kernelspec": {
   "display_name": "Python 3 (ipykernel)",
   "language": "python",
   "name": "python3"
  },
  "language_info": {
   "codemirror_mode": {
    "name": "ipython",
    "version": 3
   },
   "file_extension": ".py",
   "mimetype": "text/x-python",
   "name": "python",
   "nbconvert_exporter": "python",
   "pygments_lexer": "ipython3",
   "version": "3.10.8"
  }
 },
 "nbformat": 4,
 "nbformat_minor": 5
}
